{
  "nbformat": 4,
  "nbformat_minor": 0,
  "metadata": {
    "colab": {
      "name": "Untitled3.ipynb",
      "provenance": [],
      "authorship_tag": "ABX9TyN2bF1+11WtwQhdUImzj8Vf",
      "include_colab_link": true
    },
    "kernelspec": {
      "name": "python3",
      "display_name": "Python 3"
    }
  },
  "cells": [
    {
      "cell_type": "markdown",
      "metadata": {
        "id": "view-in-github",
        "colab_type": "text"
      },
      "source": [
        "<a href=\"https://colab.research.google.com/github/aman10-alt/lecture_1_2_/blob/main/Untitled3.ipynb\" target=\"_parent\"><img src=\"https://colab.research.google.com/assets/colab-badge.svg\" alt=\"Open In Colab\"/></a>"
      ]
    },
    {
      "cell_type": "code",
      "metadata": {
        "id": "_J1YkzR0aj1o"
      },
      "source": [
        "def fun(string):\r\n",
        "  return f\"sambhavi is a good girl {string}\"\r\n",
        "def add (a1,a2):\r\n",
        "  return a1+a2+10\r\n",
        "  a=add(10,20)\r\n",
        "  print(a)"
      ],
      "execution_count": 4,
      "outputs": []
    },
    {
      "cell_type": "code",
      "metadata": {
        "colab": {
          "base_uri": "https://localhost:8080/"
        },
        "id": "U5HZesazcwcB",
        "outputId": "e6b8ceba-f09f-4c18-b74f-3efafbd31dc3"
      },
      "source": [
        "class student:\r\n",
        "  pass\r\n",
        "one=student()\r\n",
        "two=student()\r\n",
        "one.name=\"riya\"\r\n",
        "one.standard=10\r\n",
        "one.section=\"a\"\r\n",
        "two.section=\"b\"\r\n",
        "two.subjects=[\"computer\",\"maths\"]\r\n",
        "print(two.subjects)"
      ],
      "execution_count": 8,
      "outputs": [
        {
          "output_type": "stream",
          "text": [
            "['computer', 'maths']\n"
          ],
          "name": "stdout"
        }
      ]
    },
    {
      "cell_type": "code",
      "metadata": {
        "colab": {
          "base_uri": "https://localhost:8080/"
        },
        "id": "fuXpe4Cme8Vj",
        "outputId": "9e8fbd6c-9f03-4548-c789-9a1cc23b4471"
      },
      "source": [
        "class student:\r\n",
        "  no_of_student=5\r\n",
        "  def __init__(self,aname,astandard,asection):\r\n",
        "    self.name=aname\r\n",
        "    self.standard=astandard\r\n",
        "    self.section=asection\r\n",
        "one=student(\"riya\",10,\"a\")\r\n",
        "two=student(\"sr\",10,\"b\")\r\n",
        "print(two.name)"
      ],
      "execution_count": 15,
      "outputs": [
        {
          "output_type": "stream",
          "text": [
            "sr\n"
          ],
          "name": "stdout"
        }
      ]
    },
    {
      "cell_type": "code",
      "metadata": {
        "colab": {
          "base_uri": "https://localhost:8080/"
        },
        "id": "LD3NrLX9ivee",
        "outputId": "71c05b34-dc3f-4b60-91de-4777cc4b8661"
      },
      "source": [
        "class student:\r\n",
        "  no_of_students=5\r\n",
        " # _prot=2\r\n",
        "  #__pri=100\r\n",
        "  def __init__(self,aname,astandard,asection):\r\n",
        "    self.name=aname\r\n",
        "    self.standard=astandard\r\n",
        "    self.section=asection\r\n",
        "  def detail(self):\r\n",
        "    return f\"Name is{self.name},Standard is{self.standard}\"\r\n",
        "one=student(\"reya\",10,\"a\")\r\n",
        "#print(one._prot)\r\n",
        "class teacher (student):\r\n",
        "  no_of_working_hours=12\r\n",
        "  def __init__(self,aname,astandard,asection,asalary):\r\n",
        "    self.name=aname\r\n",
        "    self.standard=astandard\r\n",
        "    self.section=asection\r\n",
        "    self.slary=asalary\r\n",
        "  def printsub(self):\r\n",
        "    return f\"Name of the teacher is{self.name},Standard of the function is{self.standard}\"\r\n",
        "three=teacher(\"tina\",10,\"a\",4577)\r\n",
        "four=teacher(\"rinki\",10,\"d\",3400)\r\n",
        "#print(three.name)\r\n",
        "print(three.no_of_students)"
      ],
      "execution_count": 31,
      "outputs": [
        {
          "output_type": "stream",
          "text": [
            "5\n"
          ],
          "name": "stdout"
        }
      ]
    },
    {
      "cell_type": "code",
      "metadata": {
        "id": "1VqssijupllU"
      },
      "source": [
        ""
      ],
      "execution_count": null,
      "outputs": []
    }
  ]
}